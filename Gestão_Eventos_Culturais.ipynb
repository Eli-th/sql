{
  "nbformat": 4,
  "nbformat_minor": 0,
  "metadata": {
    "colab": {
      "provenance": [],
      "authorship_tag": "ABX9TyPqgyoSBR8ozvYDCCXpDrd9",
      "include_colab_link": true
    },
    "kernelspec": {
      "name": "python3",
      "display_name": "Python 3"
    },
    "language_info": {
      "name": "python"
    }
  },
  "cells": [
    {
      "cell_type": "markdown",
      "metadata": {
        "id": "view-in-github",
        "colab_type": "text"
      },
      "source": [
        "<a href=\"https://colab.research.google.com/github/Eli-th/sql/blob/main/Gest%C3%A3o_Eventos_Culturais.ipynb\" target=\"_parent\"><img src=\"https://colab.research.google.com/assets/colab-badge.svg\" alt=\"Open In Colab\"/></a>"
      ]
    },
    {
      "cell_type": "markdown",
      "source": [],
      "metadata": {
        "id": "ZW_yWS64EWKD"
      }
    },
    {
      "cell_type": "code",
      "source": [
        "import sqlite3\n",
        "import pandas as pd"
      ],
      "metadata": {
        "id": "0SnuyVu0olci"
      },
      "execution_count": 2,
      "outputs": []
    },
    {
      "cell_type": "code",
      "source": [
        "# Conectar (ou criar) o banco de dados\n",
        "conn = sqlite3.connect('eventos_culturais.db')\n",
        "cursor = conn.cursor()"
      ],
      "metadata": {
        "id": "2TzGO3lbonTk"
      },
      "execution_count": 3,
      "outputs": []
    },
    {
      "cell_type": "code",
      "source": [
        "# Criar tabela de eventos\n",
        "cursor.execute(\"\"\"\n",
        "CREATE TABLE IF NOT EXISTS Evento (\n",
        "    id INTEGER PRIMARY KEY AUTOINCREMENT,\n",
        "    titulo TEXT NOT NULL,\n",
        "    data TEXT NOT NULL,\n",
        "    local TEXT NOT NULL,\n",
        "    descricao TEXT\n",
        ");\n",
        "\"\"\")\n",
        "\n",
        "# Criar tabela de usuários\n",
        "cursor.execute(\"\"\"\n",
        "CREATE TABLE IF NOT EXISTS Usuario (\n",
        "    id INTEGER PRIMARY KEY AUTOINCREMENT,\n",
        "    nome TEXT NOT NULL,\n",
        "    email TEXT NOT NULL,\n",
        "    tipo TEXT CHECK(tipo IN ('organizador', 'participante')) NOT NULL\n",
        ");\n",
        "\"\"\")\n",
        "\n",
        "# Criar tabela de inscrições\n",
        "cursor.execute(\"\"\"\n",
        "CREATE TABLE IF NOT EXISTS Inscricao (\n",
        "    id INTEGER PRIMARY KEY AUTOINCREMENT,\n",
        "    usuario_id INTEGER,\n",
        "    evento_id INTEGER,\n",
        "    confirmado BOOLEAN NOT NULL CHECK (confirmado IN (0, 1)),\n",
        "    FOREIGN KEY (usuario_id) REFERENCES Usuario(id),\n",
        "    FOREIGN KEY (evento_id) REFERENCES Evento(id)\n",
        ");\n",
        "\"\"\")\n",
        "\n",
        "# Criar tabela de feedbacks\n",
        "cursor.execute(\"\"\"\n",
        "CREATE TABLE IF NOT EXISTS Feedback (\n",
        "    id INTEGER PRIMARY KEY AUTOINCREMENT,\n",
        "    usuario_id INTEGER,\n",
        "    evento_id INTEGER,\n",
        "    comentario TEXT,\n",
        "    nota INTEGER CHECK(nota BETWEEN 1 AND 5),\n",
        "    FOREIGN KEY (usuario_id) REFERENCES Usuario(id),\n",
        "    FOREIGN KEY (evento_id) REFERENCES Evento(id)\n",
        ");\n",
        "\"\"\")\n",
        "\n",
        "# Salvar alterações\n",
        "conn.commit()"
      ],
      "metadata": {
        "id": "PXuUJtozowBQ"
      },
      "execution_count": 4,
      "outputs": []
    },
    {
      "cell_type": "code",
      "source": [
        "# Inserir um evento\n",
        "cursor.execute(\"\"\"\n",
        "INSERT INTO Evento (titulo, data, local, descricao)\n",
        "VALUES ('Festival de Música', '2025-06-15', 'Praça Central', 'Festival anual de bandas locais.');\n",
        "\"\"\")\n",
        "\n",
        "# Inserir um usuário\n",
        "cursor.execute(\"\"\"\n",
        "INSERT INTO Usuario (nome, email, tipo)\n",
        "VALUES ('Ana Silva', 'ana.silva@example.com', 'participante');\n",
        "\"\"\")\n",
        "\n",
        "# Salvar alterações\n",
        "conn.commit()"
      ],
      "metadata": {
        "id": "IedDdKOlowXh"
      },
      "execution_count": 5,
      "outputs": []
    },
    {
      "cell_type": "code",
      "source": [
        "# Consultar eventos\n",
        "df_eventos = pd.read_sql_query(\"SELECT * FROM Evento;\", conn)\n",
        "print(df_eventos)\n",
        "\n",
        "# Consultar usuários\n",
        "df_usuarios = pd.read_sql_query(\"SELECT * FROM Usuario;\", conn)\n",
        "print(df_usuarios)"
      ],
      "metadata": {
        "colab": {
          "base_uri": "https://localhost:8080/"
        },
        "id": "w8z-ps2fowih",
        "outputId": "d913b182-f860-4529-f163-ac015bfb3fa6"
      },
      "execution_count": 6,
      "outputs": [
        {
          "output_type": "stream",
          "name": "stdout",
          "text": [
            "   id              titulo        data          local  \\\n",
            "0   1  Festival de Música  2025-06-15  Praça Central   \n",
            "\n",
            "                          descricao  \n",
            "0  Festival anual de bandas locais.  \n",
            "   id       nome                  email          tipo\n",
            "0   1  Ana Silva  ana.silva@example.com  participante\n"
          ]
        }
      ]
    },
    {
      "cell_type": "code",
      "source": [
        "conn.close()"
      ],
      "metadata": {
        "id": "v1XOrPMSplx4"
      },
      "execution_count": 7,
      "outputs": []
    }
  ]
}